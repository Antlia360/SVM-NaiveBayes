{
  "nbformat": 4,
  "nbformat_minor": 0,
  "metadata": {
    "colab": {
      "provenance": []
    },
    "kernelspec": {
      "name": "python3",
      "display_name": "Python 3"
    },
    "language_info": {
      "name": "python"
    }
  },
  "cells": [
    {
      "cell_type": "code",
      "execution_count": null,
      "metadata": {
        "colab": {
          "base_uri": "https://localhost:8080/"
        },
        "id": "6zCsu7ihlRRV",
        "outputId": "6bc213e0-1810-4085-cc31-6070883630b2"
      },
      "outputs": [
        {
          "output_type": "stream",
          "name": "stdout",
          "text": [
            "Collecting ucimlrepo\n",
            "  Downloading ucimlrepo-0.0.3-py3-none-any.whl (7.0 kB)\n",
            "Installing collected packages: ucimlrepo\n",
            "Successfully installed ucimlrepo-0.0.3\n"
          ]
        }
      ],
      "source": [
        "pip install ucimlrepo"
      ]
    },
    {
      "cell_type": "code",
      "source": [
        "from ucimlrepo import fetch_ucirepo\n",
        "import pandas as pd"
      ],
      "metadata": {
        "id": "jLZC5ot4p59w"
      },
      "execution_count": null,
      "outputs": []
    },
    {
      "cell_type": "code",
      "source": [
        "#PART A\n",
        "# fetch dataset\n",
        "spambase = fetch_ucirepo(id=94)"
      ],
      "metadata": {
        "id": "tHxKTnF9tAgA"
      },
      "execution_count": null,
      "outputs": []
    },
    {
      "cell_type": "code",
      "source": [
        "# data (as pandas dataframes)\n",
        "X = spambase.data.features\n",
        "y = spambase.data.targets"
      ],
      "metadata": {
        "id": "vPYkbz6vtP8a"
      },
      "execution_count": null,
      "outputs": []
    },
    {
      "cell_type": "code",
      "source": [
        "# metadata\n",
        "print(spambase.metadata)\n",
        "print(X)\n",
        "print(y)"
      ],
      "metadata": {
        "colab": {
          "base_uri": "https://localhost:8080/"
        },
        "id": "xvK1WjaxtSyc",
        "outputId": "c17929fa-7057-429b-c3ae-06d7fa9d5afd"
      },
      "execution_count": null,
      "outputs": [
        {
          "output_type": "stream",
          "name": "stdout",
          "text": [
            "{'uci_id': 94, 'name': 'Spambase', 'repository_url': 'https://archive.ics.uci.edu/dataset/94/spambase', 'data_url': 'https://archive.ics.uci.edu/static/public/94/data.csv', 'abstract': 'Classifying Email as Spam or Non-Spam', 'area': 'Computer Science', 'tasks': ['Classification'], 'characteristics': ['Multivariate'], 'num_instances': 4601, 'num_features': 57, 'feature_types': ['Integer', 'Real'], 'demographics': [], 'target_col': ['Class'], 'index_col': None, 'has_missing_values': 'no', 'missing_values_symbol': None, 'year_of_dataset_creation': 1999, 'last_updated': 'Mon Aug 28 2023', 'dataset_doi': '10.24432/C53G6X', 'creators': ['Mark Hopkins', 'Erik Reeber', 'George Forman', 'Jaap Suermondt'], 'intro_paper': None, 'additional_info': {'summary': 'The \"spam\" concept is diverse: advertisements for products/web sites, make money fast schemes, chain letters, pornography...\\n\\nThe classification task for this dataset is to determine whether a given email is spam or not.\\n\\t\\nOur collection of spam e-mails came from our postmaster and individuals who had filed spam.  Our collection of non-spam e-mails came from filed work and personal e-mails, and hence the word \\'george\\' and the area code \\'650\\' are indicators of non-spam.  These are useful when constructing a personalized spam filter.  One would either have to blind such non-spam indicators or get a very wide collection of non-spam to generate a general purpose spam filter.\\n\\nFor background on spam: Cranor, Lorrie F., LaMacchia, Brian A.  Spam!, Communications of the ACM, 41(8):74-83, 1998.\\n\\nTypical performance is around ~7% misclassification error. False positives (marking good mail as spam) are very undesirable.If we insist on zero false positives in the training/testing set, 20-25% of the spam passed through the filter. See also Hewlett-Packard Internal-only Technical Report. External version forthcoming. ', 'purpose': None, 'funded_by': None, 'instances_represent': 'Emails', 'recommended_data_splits': None, 'sensitive_data': None, 'preprocessing_description': None, 'variable_info': 'The last column of \\'spambase.data\\' denotes whether the e-mail was considered spam (1) or not (0), i.e. unsolicited commercial e-mail.  Most of the attributes indicate whether a particular word or character was frequently occuring in the e-mail.  The run-length attributes (55-57) measure the length of sequences of consecutive capital letters.  For the statistical measures of each attribute, see the end of this file.  Here are the definitions of the attributes:\\r\\n\\r\\n48 continuous real [0,100] attributes of type word_freq_WORD \\r\\n= percentage of words in the e-mail that match WORD, i.e. 100 * (number of times the WORD appears in the e-mail) / total number of words in e-mail.  A \"word\" in this case is any string of alphanumeric characters bounded by non-alphanumeric characters or end-of-string.\\r\\n\\r\\n6 continuous real [0,100] attributes of type char_freq_CHAR] \\r\\n= percentage of characters in the e-mail that match CHAR, i.e. 100 * (number of CHAR occurences) / total characters in e-mail\\r\\n\\r\\n1 continuous real [1,...] attribute of type capital_run_length_average \\r\\n= average length of uninterrupted sequences of capital letters\\r\\n\\r\\n1 continuous integer [1,...] attribute of type capital_run_length_longest \\r\\n= length of longest uninterrupted sequence of capital letters\\r\\n\\r\\n1 continuous integer [1,...] attribute of type capital_run_length_total \\r\\n= sum of length of uninterrupted sequences of capital letters \\r\\n= total number of capital letters in the e-mail\\r\\n\\r\\n1 nominal {0,1} class attribute of type spam\\r\\n= denotes whether the e-mail was considered spam (1) or not (0), i.e. unsolicited commercial e-mail.  \\r\\n', 'citation': None}}\n",
            "      word_freq_make  word_freq_address  word_freq_all  word_freq_3d  \\\n",
            "0               0.00               0.64           0.64           0.0   \n",
            "1               0.21               0.28           0.50           0.0   \n",
            "2               0.06               0.00           0.71           0.0   \n",
            "3               0.00               0.00           0.00           0.0   \n",
            "4               0.00               0.00           0.00           0.0   \n",
            "...              ...                ...            ...           ...   \n",
            "4596            0.31               0.00           0.62           0.0   \n",
            "4597            0.00               0.00           0.00           0.0   \n",
            "4598            0.30               0.00           0.30           0.0   \n",
            "4599            0.96               0.00           0.00           0.0   \n",
            "4600            0.00               0.00           0.65           0.0   \n",
            "\n",
            "      word_freq_our  word_freq_over  word_freq_remove  word_freq_internet  \\\n",
            "0              0.32            0.00              0.00                0.00   \n",
            "1              0.14            0.28              0.21                0.07   \n",
            "2              1.23            0.19              0.19                0.12   \n",
            "3              0.63            0.00              0.31                0.63   \n",
            "4              0.63            0.00              0.31                0.63   \n",
            "...             ...             ...               ...                 ...   \n",
            "4596           0.00            0.31              0.00                0.00   \n",
            "4597           0.00            0.00              0.00                0.00   \n",
            "4598           0.00            0.00              0.00                0.00   \n",
            "4599           0.32            0.00              0.00                0.00   \n",
            "4600           0.00            0.00              0.00                0.00   \n",
            "\n",
            "      word_freq_order  word_freq_mail  ...  word_freq_conference  char_freq_;  \\\n",
            "0                0.00            0.00  ...                   0.0        0.000   \n",
            "1                0.00            0.94  ...                   0.0        0.000   \n",
            "2                0.64            0.25  ...                   0.0        0.010   \n",
            "3                0.31            0.63  ...                   0.0        0.000   \n",
            "4                0.31            0.63  ...                   0.0        0.000   \n",
            "...               ...             ...  ...                   ...          ...   \n",
            "4596             0.00            0.00  ...                   0.0        0.000   \n",
            "4597             0.00            0.00  ...                   0.0        0.000   \n",
            "4598             0.00            0.00  ...                   0.0        0.102   \n",
            "4599             0.00            0.00  ...                   0.0        0.000   \n",
            "4600             0.00            0.00  ...                   0.0        0.000   \n",
            "\n",
            "      char_freq_(  char_freq_[  char_freq_!  char_freq_$  char_freq_#  \\\n",
            "0           0.000          0.0        0.778        0.000        0.000   \n",
            "1           0.132          0.0        0.372        0.180        0.048   \n",
            "2           0.143          0.0        0.276        0.184        0.010   \n",
            "3           0.137          0.0        0.137        0.000        0.000   \n",
            "4           0.135          0.0        0.135        0.000        0.000   \n",
            "...           ...          ...          ...          ...          ...   \n",
            "4596        0.232          0.0        0.000        0.000        0.000   \n",
            "4597        0.000          0.0        0.353        0.000        0.000   \n",
            "4598        0.718          0.0        0.000        0.000        0.000   \n",
            "4599        0.057          0.0        0.000        0.000        0.000   \n",
            "4600        0.000          0.0        0.125        0.000        0.000   \n",
            "\n",
            "      capital_run_length_average  capital_run_length_longest  \\\n",
            "0                          3.756                          61   \n",
            "1                          5.114                         101   \n",
            "2                          9.821                         485   \n",
            "3                          3.537                          40   \n",
            "4                          3.537                          40   \n",
            "...                          ...                         ...   \n",
            "4596                       1.142                           3   \n",
            "4597                       1.555                           4   \n",
            "4598                       1.404                           6   \n",
            "4599                       1.147                           5   \n",
            "4600                       1.250                           5   \n",
            "\n",
            "      capital_run_length_total  \n",
            "0                          278  \n",
            "1                         1028  \n",
            "2                         2259  \n",
            "3                          191  \n",
            "4                          191  \n",
            "...                        ...  \n",
            "4596                        88  \n",
            "4597                        14  \n",
            "4598                       118  \n",
            "4599                        78  \n",
            "4600                        40  \n",
            "\n",
            "[4601 rows x 57 columns]\n",
            "      Class\n",
            "0         1\n",
            "1         1\n",
            "2         1\n",
            "3         1\n",
            "4         1\n",
            "...     ...\n",
            "4596      0\n",
            "4597      0\n",
            "4598      0\n",
            "4599      0\n",
            "4600      0\n",
            "\n",
            "[4601 rows x 1 columns]\n"
          ]
        }
      ]
    },
    {
      "cell_type": "code",
      "source": [
        "# variable information\n",
        "print(spambase.variables)"
      ],
      "metadata": {
        "id": "jxV0ni-AtZ7l"
      },
      "execution_count": null,
      "outputs": []
    },
    {
      "cell_type": "code",
      "source": [
        "# Import Scikit learn\n",
        "from sklearn import datasets\n",
        "from sklearn.model_selection import train_test_split\n",
        "from sklearn.svm import SVC\n",
        "X_train, X_test, y_train, y_test = train_test_split(X, y,\n",
        "test_size=0.2, random_state=42)"
      ],
      "metadata": {
        "id": "UkEg5WFxtnIt"
      },
      "execution_count": null,
      "outputs": []
    },
    {
      "cell_type": "code",
      "source": [
        "# Train SVM Model\n",
        "svm_model = SVC(kernel='linear')\n",
        "svm_model.fit(X_train, y_train)\n",
        "# Get predictions\n",
        "y_pred = svm_model.predict(X_test)"
      ],
      "metadata": {
        "id": "ux5nTfKAuJHJ",
        "colab": {
          "base_uri": "https://localhost:8080/"
        },
        "outputId": "bf346bda-0e08-4805-96ca-76e0fe0b1932"
      },
      "execution_count": null,
      "outputs": [
        {
          "output_type": "stream",
          "name": "stderr",
          "text": [
            "/usr/local/lib/python3.10/dist-packages/sklearn/utils/validation.py:1143: DataConversionWarning: A column-vector y was passed when a 1d array was expected. Please change the shape of y to (n_samples, ), for example using ravel().\n",
            "  y = column_or_1d(y, warn=True)\n"
          ]
        }
      ]
    },
    {
      "cell_type": "code",
      "source": [
        "#accuracy, precision, recall, and f1_score using scikit\n",
        "from sklearn.metrics import confusion_matrix, accuracy_score, precision_score, recall_score, f1_score\n",
        "print('accuracy = ', accuracy_score(y_test, y_pred))\n",
        "print('precision = ', precision_score(y_test, y_pred))\n",
        "print('recall = ', recall_score(y_test, y_pred))\n",
        "print('f1_score = ', f1_score(y_test, y_pred))"
      ],
      "metadata": {
        "colab": {
          "base_uri": "https://localhost:8080/"
        },
        "id": "FyykHnKGuZAY",
        "outputId": "c643fc51-be03-4337-e05a-f57c6c966402"
      },
      "execution_count": null,
      "outputs": [
        {
          "output_type": "stream",
          "name": "stdout",
          "text": [
            "accuracy =  0.6254071661237784\n",
            "precision =  0.8688524590163934\n",
            "recall =  0.1358974358974359\n",
            "f1_score =  0.2350332594235033\n"
          ]
        }
      ]
    },
    {
      "cell_type": "code",
      "source": [
        "#Regularization\n",
        "#regularisation parameter of the SVM and tabularise and plot the accuracy. You can use the following values:\n",
        "[ 0.001, 0.1, 1, 10, 100 ]\n",
        "\n",
        "#Variable to store accuracy at different regularization value\n",
        "reg_val=[ 0.001, 0.1, 1, 10, 100 ]\n",
        "accu=[]\n",
        "\n",
        "for i in reg_val:\n",
        "  # Train SVM Model\n",
        "  svm_model = SVC(kernel='linear',C=i)\n",
        "  svm_model.fit(X_train, y_train)\n",
        "  # Get predictions\n",
        "  y_pred = svm_model.predict(X_test)\n",
        "  accuracy = accuracy_score(y_test, y_pred)\n",
        "  accu.append(accuracy)"
      ],
      "metadata": {
        "id": "Rhz9yQnXv4Jd",
        "colab": {
          "base_uri": "https://localhost:8080/"
        },
        "outputId": "35f2446e-a8e3-47a9-9f71-1f174e0ab4ac"
      },
      "execution_count": null,
      "outputs": [
        {
          "output_type": "stream",
          "name": "stderr",
          "text": [
            "/usr/local/lib/python3.10/dist-packages/sklearn/utils/validation.py:1143: DataConversionWarning: A column-vector y was passed when a 1d array was expected. Please change the shape of y to (n_samples, ), for example using ravel().\n",
            "  y = column_or_1d(y, warn=True)\n",
            "/usr/local/lib/python3.10/dist-packages/sklearn/utils/validation.py:1143: DataConversionWarning: A column-vector y was passed when a 1d array was expected. Please change the shape of y to (n_samples, ), for example using ravel().\n",
            "  y = column_or_1d(y, warn=True)\n",
            "/usr/local/lib/python3.10/dist-packages/sklearn/utils/validation.py:1143: DataConversionWarning: A column-vector y was passed when a 1d array was expected. Please change the shape of y to (n_samples, ), for example using ravel().\n",
            "  y = column_or_1d(y, warn=True)\n",
            "/usr/local/lib/python3.10/dist-packages/sklearn/utils/validation.py:1143: DataConversionWarning: A column-vector y was passed when a 1d array was expected. Please change the shape of y to (n_samples, ), for example using ravel().\n",
            "  y = column_or_1d(y, warn=True)\n",
            "/usr/local/lib/python3.10/dist-packages/sklearn/utils/validation.py:1143: DataConversionWarning: A column-vector y was passed when a 1d array was expected. Please change the shape of y to (n_samples, ), for example using ravel().\n",
            "  y = column_or_1d(y, warn=True)\n"
          ]
        }
      ]
    },
    {
      "cell_type": "code",
      "source": [
        "print(accu)"
      ],
      "metadata": {
        "colab": {
          "base_uri": "https://localhost:8080/"
        },
        "id": "bM3vCtId5JWM",
        "outputId": "a8700f1c-cf6f-421d-f3dd-f28f25aac313"
      },
      "execution_count": null,
      "outputs": [
        {
          "output_type": "stream",
          "name": "stdout",
          "text": [
            "[0.8653637350705755, 0.9250814332247557, 0.9229098805646037, 0.9185667752442996, 0.9131378935939196]\n"
          ]
        }
      ]
    },
    {
      "cell_type": "code",
      "source": [
        "#tabularise and plot the accuracy\n",
        "table = {'REGULARIZATION':reg_val, 'ACCURACY':accu}\n",
        "print(pd.DataFrame(table))"
      ],
      "metadata": {
        "colab": {
          "base_uri": "https://localhost:8080/"
        },
        "id": "CjU0qJeYqcYj",
        "outputId": "737892ea-731d-41d7-faec-7ad1e2e341a0"
      },
      "execution_count": null,
      "outputs": [
        {
          "output_type": "stream",
          "name": "stdout",
          "text": [
            "   REGULARIZATION  ACCURACY\n",
            "0           0.001  0.865364\n",
            "1           0.100  0.925081\n",
            "2           1.000  0.922910\n",
            "3          10.000  0.918567\n",
            "4         100.000  0.913138\n"
          ]
        }
      ]
    },
    {
      "cell_type": "code",
      "source": [
        "import matplotlib.pyplot as plt\n",
        "\n",
        "# Plot accuracy vs regularization parameter\n",
        "plt.plot(reg_val, accu)\n",
        "plt.xlabel('Regularization Parameter')\n",
        "plt.ylabel('Accuracy')\n",
        "plt.title('Accuracy vs Regularization Parameter')\n",
        "plt.xscale('log')\n",
        "plt.show()"
      ],
      "metadata": {
        "colab": {
          "base_uri": "https://localhost:8080/",
          "height": 476
        },
        "id": "1Pxq3vom_CfH",
        "outputId": "c3ee38f7-f3a2-437c-a3da-9b9330945ebf"
      },
      "execution_count": null,
      "outputs": [
        {
          "output_type": "display_data",
          "data": {
            "text/plain": [
              "<Figure size 640x480 with 1 Axes>"
            ],
            "image/png": "[encoded data removed]"
          },
          "metadata": {}
        }
      ]
    },
    {
      "cell_type": "code",
      "source": [
        "#PART-2\n",
        "\n",
        "#1. Polynomial with degree 2\n",
        "# Train SVM Model\n",
        "svm_model = SVC(kernel='poly', degree=2)\n",
        "svm_model.fit(X_train, y_train)\n",
        "# Get predictions\n",
        "y_pred = svm_model.predict(X_test)\n",
        "\n",
        "#Reporting the accuracy, precision, recall and F1 score\n",
        "print('Polynomial with degree 2')\n",
        "print('accuracy = ', accuracy_score(y_test, y_pred))\n",
        "print('precision = ', precision_score(y_test, y_pred))\n",
        "print('recall = ', recall_score(y_test, y_pred))\n",
        "print('f1_score = ', f1_score(y_test, y_pred))\n"
      ],
      "metadata": {
        "colab": {
          "base_uri": "https://localhost:8080/"
        },
        "id": "S_4QxT_N_y9G",
        "outputId": "1452e736-85a7-4f47-c2a6-2546d07609f9"
      },
      "execution_count": null,
      "outputs": [
        {
          "output_type": "stream",
          "name": "stderr",
          "text": [
            "/usr/local/lib/python3.10/dist-packages/sklearn/utils/validation.py:1143: DataConversionWarning: A column-vector y was passed when a 1d array was expected. Please change the shape of y to (n_samples, ), for example using ravel().\n",
            "  y = column_or_1d(y, warn=True)\n"
          ]
        },
        {
          "output_type": "stream",
          "name": "stdout",
          "text": [
            "Polynomial with degree 2\n",
            "accuracy =  0.6492942453854506\n",
            "precision =  0.8764044943820225\n",
            "recall =  0.2\n",
            "f1_score =  0.325678496868476\n"
          ]
        }
      ]
    },
    {
      "cell_type": "code",
      "source": [
        "#2. Polynomial with degree 3\n",
        "\n",
        "# Train SVM Model\n",
        "svm_model = SVC(kernel='poly', degree=3)\n",
        "svm_model.fit(X_train, y_train)\n",
        "# Get predictions\n",
        "y_pred = svm_model.predict(X_test)\n",
        "\n",
        "#Reporting the accuracy, precision, recall and F1 score\n",
        "print('Polynomial with degree 3')\n",
        "print('accuracy = ', accuracy_score(y_test, y_pred))\n",
        "print('precision = ', precision_score(y_test, y_pred))\n",
        "print('recall = ', recall_score(y_test, y_pred))\n",
        "print('f1_score = ', f1_score(y_test, y_pred))\n",
        "\n"
      ],
      "metadata": {
        "colab": {
          "base_uri": "https://localhost:8080/"
        },
        "id": "r9i9Jxt7A4Fg",
        "outputId": "fbfa96a5-c8de-4cad-8577-b305412a12ae"
      },
      "execution_count": null,
      "outputs": [
        {
          "output_type": "stream",
          "name": "stderr",
          "text": [
            "/usr/local/lib/python3.10/dist-packages/sklearn/utils/validation.py:1143: DataConversionWarning: A column-vector y was passed when a 1d array was expected. Please change the shape of y to (n_samples, ), for example using ravel().\n",
            "  y = column_or_1d(y, warn=True)\n"
          ]
        },
        {
          "output_type": "stream",
          "name": "stdout",
          "text": [
            "Polynomial with degree 3\n",
            "accuracy =  0.6254071661237784\n",
            "precision =  0.8688524590163934\n",
            "recall =  0.1358974358974359\n",
            "f1_score =  0.2350332594235033\n"
          ]
        }
      ]
    },
    {
      "cell_type": "code",
      "source": [
        "#3. Sigmoid\n",
        "\n",
        "# Train SVM Model\n",
        "svm_model = SVC(kernel='sigmoid')\n",
        "svm_model.fit(X_train, y_train)\n",
        "# Get predictions\n",
        "y_pred = svm_model.predict(X_test)\n",
        "\n",
        "#Reporting the accuracy, precision, recall and F1 score\n",
        "print('Sigmoid')\n",
        "print('accuracy = ', accuracy_score(y_test, y_pred))\n",
        "print('precision = ', precision_score(y_test, y_pred))\n",
        "print('recall = ', recall_score(y_test, y_pred))\n",
        "print('f1_score = ', f1_score(y_test, y_pred))"
      ],
      "metadata": {
        "colab": {
          "base_uri": "https://localhost:8080/"
        },
        "id": "WevNcv-zBKHW",
        "outputId": "16eb19ad-3fd5-4839-f42a-b03d997b428a"
      },
      "execution_count": null,
      "outputs": [
        {
          "output_type": "stream",
          "name": "stderr",
          "text": [
            "/usr/local/lib/python3.10/dist-packages/sklearn/utils/validation.py:1143: DataConversionWarning: A column-vector y was passed when a 1d array was expected. Please change the shape of y to (n_samples, ), for example using ravel().\n",
            "  y = column_or_1d(y, warn=True)\n"
          ]
        },
        {
          "output_type": "stream",
          "name": "stdout",
          "text": [
            "Sigmoid\n",
            "accuracy =  0.6351791530944625\n",
            "precision =  0.5737704918032787\n",
            "recall =  0.5384615384615384\n",
            "f1_score =  0.5555555555555556\n"
          ]
        }
      ]
    },
    {
      "cell_type": "code",
      "source": [
        "#4. Radial Basis Function (RBF)\n",
        "\n",
        "# Train SVM Model\n",
        "svm_model = SVC(kernel='rbf')\n",
        "svm_model.fit(X_train, y_train)\n",
        "# Get predictions\n",
        "y_pred = svm_model.predict(X_test)\n",
        "\n",
        "#Reporting the accuracy, precision, recall and F1 score\n",
        "print('Radial Basis Function (RBF)')\n",
        "print('accuracy = ', accuracy_score(y_test, y_pred))\n",
        "print('precision = ', precision_score(y_test, y_pred))\n",
        "print('recall = ', recall_score(y_test, y_pred))\n",
        "print('f1_score = ', f1_score(y_test, y_pred))"
      ],
      "metadata": {
        "colab": {
          "base_uri": "https://localhost:8080/"
        },
        "id": "T83oJVg3CNrS",
        "outputId": "351f1797-3b5a-4495-8c47-166e9f303093"
      },
      "execution_count": null,
      "outputs": [
        {
          "output_type": "stream",
          "name": "stderr",
          "text": [
            "/usr/local/lib/python3.10/dist-packages/sklearn/utils/validation.py:1143: DataConversionWarning: A column-vector y was passed when a 1d array was expected. Please change the shape of y to (n_samples, ), for example using ravel().\n",
            "  y = column_or_1d(y, warn=True)\n"
          ]
        },
        {
          "output_type": "stream",
          "name": "stdout",
          "text": [
            "Radial Basis Function (RBF)\n",
            "accuracy =  0.6623235613463626\n",
            "precision =  0.6612244897959184\n",
            "recall =  0.4153846153846154\n",
            "f1_score =  0.510236220472441\n"
          ]
        }
      ]
    },
    {
      "cell_type": "code",
      "source": [
        "#PART-3\n",
        "\n",
        "# polynomial degrees and regularization parameters\n",
        "experiment = [\n",
        "    {'Polynomial Degree': 1, 'Regularization Parameter C': 0.01},\n",
        "    {'Polynomial Degree': 1, 'Regularization Parameter C': 100},\n",
        "    {'Polynomial Degree': 3, 'Regularization Parameter C': 0.01},\n",
        "    {'Polynomial Degree': 3, 'Regularization Parameter C': 100}\n",
        "]\n",
        "\n",
        "# to store train and test accuracies\n",
        "train_accuracy = []\n",
        "test_accuracy = []\n",
        "\n",
        "for i in experiment:\n",
        "    polynomial_deg = i['Polynomial Degree']\n",
        "    reg_param = i['Regularization Parameter C']\n",
        "\n",
        "    # Train SVM Model\n",
        "    svm_model = SVC(kernel='poly', degree=polynomial_deg, C=reg_param)\n",
        "    svm_model.fit(X_train, y_train)\n",
        "    # Get predictions\n",
        "    y_test_pred = svm_model.predict(X_test)\n",
        "    y_train_pred = svm_model.predict(X_train)\n",
        "\n",
        "    # Calculating accuracy\n",
        "    #and appending it to their respective experiment\n",
        "    train_accu = accuracy_score(y_train, y_train_pred)\n",
        "    train_accuracy.append(train_accu)\n",
        "\n",
        "    test_accu = accuracy_score(y_test, y_test_pred)\n",
        "    test_accuracy.append(test_accu)"
      ],
      "metadata": {
        "colab": {
          "base_uri": "https://localhost:8080/"
        },
        "id": "MOPDKwQeCdcc",
        "outputId": "4586a353-f0f6-4158-d4b1-8f548c7cd6f4"
      },
      "execution_count": null,
      "outputs": [
        {
          "output_type": "stream",
          "name": "stderr",
          "text": [
            "/usr/local/lib/python3.10/dist-packages/sklearn/utils/validation.py:1143: DataConversionWarning: A column-vector y was passed when a 1d array was expected. Please change the shape of y to (n_samples, ), for example using ravel().\n",
            "  y = column_or_1d(y, warn=True)\n",
            "/usr/local/lib/python3.10/dist-packages/sklearn/utils/validation.py:1143: DataConversionWarning: A column-vector y was passed when a 1d array was expected. Please change the shape of y to (n_samples, ), for example using ravel().\n",
            "  y = column_or_1d(y, warn=True)\n",
            "/usr/local/lib/python3.10/dist-packages/sklearn/utils/validation.py:1143: DataConversionWarning: A column-vector y was passed when a 1d array was expected. Please change the shape of y to (n_samples, ), for example using ravel().\n",
            "  y = column_or_1d(y, warn=True)\n",
            "/usr/local/lib/python3.10/dist-packages/sklearn/utils/validation.py:1143: DataConversionWarning: A column-vector y was passed when a 1d array was expected. Please change the shape of y to (n_samples, ), for example using ravel().\n",
            "  y = column_or_1d(y, warn=True)\n"
          ]
        }
      ]
    },
    {
      "cell_type": "code",
      "source": [
        "print(train_accuracy)\n",
        "print(test_accuracy)"
      ],
      "metadata": {
        "colab": {
          "base_uri": "https://localhost:8080/"
        },
        "id": "FPZCItYwFY1A",
        "outputId": "b614057a-44a5-4af1-d557-70220c03141c"
      },
      "execution_count": null,
      "outputs": [
        {
          "output_type": "stream",
          "name": "stdout",
          "text": [
            "[0.6635869565217392, 0.7845108695652174, 0.6513586956521739, 0.6997282608695652]\n",
            "[0.6210640608034745, 0.760043431053203, 0.6112920738327905, 0.6601520086862106]\n"
          ]
        }
      ]
    },
    {
      "cell_type": "code",
      "source": [
        "#tabulating the results (training accuracy and testing accuracy)\n",
        "table = pd.DataFrame(experiment)\n",
        "table['Train Accuracy'] = train_accuracy\n",
        "table['Test Accuracy'] = test_accuracy\n",
        "print(table)"
      ],
      "metadata": {
        "colab": {
          "base_uri": "https://localhost:8080/"
        },
        "id": "DaWR54KLFuJ2",
        "outputId": "df8442cf-3e41-4b0c-e46a-41bdb1c1214b"
      },
      "execution_count": null,
      "outputs": [
        {
          "output_type": "stream",
          "name": "stdout",
          "text": [
            "   Polynomial Degree  Regularization Parameter C  Train Accuracy  \\\n",
            "0                  1                        0.01        0.663587   \n",
            "1                  1                      100.00        0.784511   \n",
            "2                  3                        0.01        0.651359   \n",
            "3                  3                      100.00        0.699728   \n",
            "\n",
            "   Test Accuracy  \n",
            "0       0.621064  \n",
            "1       0.760043  \n",
            "2       0.611292  \n",
            "3       0.660152  \n"
          ]
        }
      ]
    },
    {
      "cell_type": "code",
      "source": [
        "#plotting train and test accuracies\n",
        "\n",
        "import matplotlib.pyplot as pt\n",
        "pt.ylim(0.6, 0.9)\n",
        "plt.plot(table.index, table['Train Accuracy'], label='Train Accuracy')\n",
        "plt.plot(table.index, table['Test Accuracy'], label='Test Accuracy')\n",
        "plt.xlabel('Experiment number')\n",
        "plt.ylabel('Accuracy')\n",
        "plt.show()"
      ],
      "metadata": {
        "colab": {
          "base_uri": "https://localhost:8080/",
          "height": 455
        },
        "id": "Nhw8_ZA6FLIJ",
        "outputId": "82c0cb8b-c731-4acf-fe3e-19c3135a8d1e"
      },
      "execution_count": null,
      "outputs": [
        {
          "output_type": "display_data",
          "data": {
            "text/plain": [
              "<Figure size 640x480 with 1 Axes>"
            ],
            "image/png": "[encoded data removed]"
          },
          "metadata": {}
        }
      ]
    },
    {
      "cell_type": "code",
      "source": [],
      "metadata": {
        "id": "UOGPHDkPFtQQ"
      },
      "execution_count": null,
      "outputs": []
    }
  ]
}
